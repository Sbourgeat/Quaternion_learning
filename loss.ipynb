import os

def delete_transformed_images(dir_path):
    # Parcourir tous les fichiers dans le répertoire donné
    for filename in os.listdir(dir_path):
        # Vérifier si le nom du fichier contient le motif '_transformed_'
        if '_transformed_' in filename:
            file_path = os.path.join(dir_path, filename)
            try:
                os.remove(file_path)
                print(f"Deleted: {file_path}")
            except Exception as e:
                print(f"Could not delete {file_path}: {e}")

if __name__ == "__main__":
    # Répertoires contenant les images transformées
    dir1 = './pca_based_dataset/source/'
    dir2 = './pca_based_dataset/target/'
    
    # Supprimer les images transformées dans les deux répertoires
    delete_transformed_images(dir1)
    delete_transformed_images(dir2)

