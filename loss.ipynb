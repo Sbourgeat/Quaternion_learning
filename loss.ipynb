{
 "cells": [
  {
   "cell_type": "code",
   "execution_count": 1,
   "id": "7c0dd47b-bc76-4e39-a82a-45d196022109",
   "metadata": {
    "execution": {
     "iopub.execute_input": "2024-08-19T08:19:23.840440Z",
     "iopub.status.busy": "2024-08-19T08:19:23.839555Z",
     "iopub.status.idle": "2024-08-19T08:19:25.871022Z",
     "shell.execute_reply": "2024-08-19T08:19:25.870080Z",
     "shell.execute_reply.started": "2024-08-19T08:19:23.840366Z"
    },
    "tags": []
   },
   "outputs": [],
   "source": [
    "import torch\n",
    "import torch.nn as nn"
   ]
  },
  {
   "cell_type": "code",
   "execution_count": 2,
   "id": "e6691217-90f1-4407-96ab-619008c16d1f",
   "metadata": {
    "execution": {
     "iopub.execute_input": "2024-08-19T08:19:49.165932Z",
     "iopub.status.busy": "2024-08-19T08:19:49.164834Z",
     "iopub.status.idle": "2024-08-19T08:19:49.183315Z",
     "shell.execute_reply": "2024-08-19T08:19:49.181284Z",
     "shell.execute_reply.started": "2024-08-19T08:19:49.165859Z"
    },
    "tags": []
   },
   "outputs": [],
   "source": [
    "class QuaternionLoss(nn.Module):\n",
    "    def __init__(self):\n",
    "        super(QuaternionLoss, self).__init__()\n",
    "\n",
    "    def forward(self, q_pred, q_target):\n",
    "        # Normalisation des quaternions (pour s'assurer qu'ils sont unitaires)\n",
    "        q_pred = q_pred / torch.norm(q_pred, dim=-1, keepdim=True)\n",
    "        q_target = q_target / torch.norm(q_target, dim=-1, keepdim=True)\n",
    "        \n",
    "        # Calcul du produit scalaire entre les quaternions prédits et cibles\n",
    "        dot_product = torch.sum(q_pred * q_target, dim=-1)\n",
    "        \n",
    "        # Calcul de la perte : 1 - (dot_product ** 2)\n",
    "        loss = 1.0 - dot_product ** 2\n",
    "        \n",
    "        # Moyenne de la perte pour le batch\n",
    "        return loss.mean()"
   ]
  },
  {
   "cell_type": "code",
   "execution_count": 7,
   "id": "9241773a-34ec-4b6c-861d-0707f19754d0",
   "metadata": {
    "execution": {
     "iopub.execute_input": "2024-08-19T08:41:56.773620Z",
     "iopub.status.busy": "2024-08-19T08:41:56.772731Z",
     "iopub.status.idle": "2024-08-19T08:41:56.793666Z",
     "shell.execute_reply": "2024-08-19T08:41:56.791094Z",
     "shell.execute_reply.started": "2024-08-19T08:41:56.773545Z"
    },
    "tags": []
   },
   "outputs": [
    {
     "name": "stdout",
     "output_type": "stream",
     "text": [
      "Loss: 0.3447226583957672\n"
     ]
    }
   ],
   "source": [
    "q_pred = torch.tensor([[0.7, 0.3, 0.1, 0],  # Quaternion prédit\n",
    "                       [0, 0.5, 0.7, 0.6]], requires_grad=True)  # Autre quaternion prédit\n",
    "                       \n",
    "q_target = torch.tensor([[0.7, 0, 0.7, 0],  # Quaternion cible\n",
    "                         [0, 0, 0.7, 0.7]])  # Autre quaternion cible\n",
    "\n",
    "# Instancier la fonction de perte\n",
    "criterion = QuaternionLoss()\n",
    "\n",
    "# Calculer la perte\n",
    "loss = criterion(q_pred, q_target)\n",
    "\n",
    "print(f'Loss: {loss.item()}')\n",
    "\n",
    "loss.backward()"
   ]
  },
  {
   "cell_type": "code",
   "execution_count": null,
   "id": "87c1c34c-6886-4ee2-85a5-53ec879adc35",
   "metadata": {},
   "outputs": [],
   "source": []
  },
  {
   "cell_type": "code",
   "execution_count": null,
   "id": "6b1357c8-1d0b-4571-a7d0-aaad1866db93",
   "metadata": {},
   "outputs": [],
   "source": []
  }
 ],
 "metadata": {
  "kernelspec": {
   "display_name": "Python 3 (ipykernel)",
   "language": "python",
   "name": "python3"
  },
  "language_info": {
   "codemirror_mode": {
    "name": "ipython",
    "version": 3
   },
   "file_extension": ".py",
   "mimetype": "text/x-python",
   "name": "python",
   "nbconvert_exporter": "python",
   "pygments_lexer": "ipython3",
   "version": "3.12.4"
  }
 },
 "nbformat": 4,
 "nbformat_minor": 5
}
